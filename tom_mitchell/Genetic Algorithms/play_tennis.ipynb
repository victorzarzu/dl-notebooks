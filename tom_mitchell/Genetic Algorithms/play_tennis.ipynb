{
 "cells": [
  {
   "cell_type": "code",
   "execution_count": 357,
   "metadata": {},
   "outputs": [],
   "source": [
    "import numpy as np\n",
    "import matplotlib.pyplot as plt"
   ]
  },
  {
   "cell_type": "code",
   "execution_count": 358,
   "metadata": {},
   "outputs": [],
   "source": [
    "REPRESENTATION_LENGTH = 11 "
   ]
  },
  {
   "cell_type": "code",
   "execution_count": 359,
   "metadata": {},
   "outputs": [],
   "source": [
    "def number_to_representation(number, length):\n",
    "    representation = []\n",
    "    for i in range(length - 1, -1, -1):\n",
    "        if number & (1 << i):\n",
    "            representation.append(1)\n",
    "        else:\n",
    "            representation.append(0) \n",
    "    return representation"
   ]
  },
  {
   "cell_type": "code",
   "execution_count": 360,
   "metadata": {},
   "outputs": [],
   "source": [
    "class Hypothesis: \n",
    "    def __init__(self, length, representation = None):\n",
    "        if representation == None:\n",
    "            self.__hypothesis = number_to_representation(np.random.randint(0, (1 << length)), length)\n",
    "            self.__length = length\n",
    "        else:\n",
    "            self.__hypothesis = representation\n",
    "            self.__length = length\n",
    "    \n",
    "    \n",
    "    def get_representation(self):\n",
    "        return self.__hypothesis\n",
    "\n",
    "    def classify(self, instance):\n",
    "        result = self.__hypothesis[self.__length - 1]\n",
    "\n",
    "        for i in range(len(instance)):\n",
    "            if instance[i] == 1 and self.__hypothesis[i] == 0:\n",
    "                return result ^ 1\n",
    "        \n",
    "        return result"
   ]
  },
  {
   "cell_type": "code",
   "execution_count": 361,
   "metadata": {},
   "outputs": [],
   "source": [
    "class Fitness:\n",
    "\n",
    "    def __init__(self, instances, targets):\n",
    "        self.__instances = instances\n",
    "        self.__targets = targets\n",
    "    \n",
    "    def __call__(self, hypothesis):\n",
    "        result = 0\n",
    "\n",
    "        for instance, target in zip(self.__instances, self.__targets):\n",
    "            if hypothesis.classify(instance) == target:\n",
    "                result += 1\n",
    "        \n",
    "        return result / len(self.__instances)\n"
   ]
  },
  {
   "cell_type": "code",
   "execution_count": 362,
   "metadata": {},
   "outputs": [],
   "source": [
    "class GA:\n",
    "    def __init__(self, length, fitness, p = 30, r = 0.6, m = 0.001, threshold = 0.25):\n",
    "        self.__p = p\n",
    "        self.__r = r\n",
    "        self.__m = m\n",
    "        self.__length = length\n",
    "        self.__fitness = fitness\n",
    "        self.__threshold = threshold\n",
    "\n",
    "        self.__init_hypothesis()\n",
    "    \n",
    "    def __init_hypothesis(self):\n",
    "        self.__hypothesis = []\n",
    "\n",
    "        for _ in range(self.__p):\n",
    "            self.__hypothesis.append(Hypothesis(length = self.__length))\n",
    "    \n",
    "    @classmethod\n",
    "    def __crossover(cls, hypothesis1, hypothesis2):\n",
    "        representation1 = hypothesis1.get_representation()\n",
    "        representation2 = hypothesis2.get_representation()\n",
    "        length = len(representation1)\n",
    "\n",
    "        n1 = np.random.randint(0, length - 2)\n",
    "        n2 = np.random.randint(n1 + 2, length)\n",
    "\n",
    "        left1 = representation1[:(n1 + 1)]\n",
    "        left2 = representation2[:(n1 + 1)]\n",
    "\n",
    "        for i in range(n1 + 1):\n",
    "            representation1[i] = left2[i]\n",
    "            representation2[i] = left1[i]\n",
    "        \n",
    "        right1 = representation1[n2:]\n",
    "        right2 = representation2[n2:]\n",
    "\n",
    "        for i in range(n2, len(representation1)):\n",
    "            representation1[i] = right2[i - n2]\n",
    "            representation2[i] = right1[i - n2]\n",
    "        \n",
    "        return [Hypothesis(representation = representation1, length = len(representation1)), Hypothesis(representation = representation2, length = len(representation2))]\n",
    "    \n",
    "    @classmethod\n",
    "    def __mutate(cls, hypothesis):\n",
    "        representation = hypothesis.get_representation()\n",
    "\n",
    "        position = np.random.randint(0, len(representation))\n",
    "        representation[position] ^= 1\n",
    "\n",
    "        return Hypothesis(representation = representation, length = len(representation))\n",
    "    \n",
    "    def __probabilities(self):\n",
    "        probabilities = []\n",
    "\n",
    "        for hypothesis in self.__hypothesis:\n",
    "            probabilities.append(self.__fitness(hypothesis))\n",
    "        \n",
    "        sum_fitness = sum(probabilities)\n",
    "        probabilities = [p / sum_fitness for p in probabilities]\n",
    "        \n",
    "        return probabilities\n",
    "\n",
    "    def __sample_hypothesis(self, probabilities, number):\n",
    "        hypothesis = list(np.random.choice(self.__hypothesis, number, p = probabilities, replace = False))\n",
    "\n",
    "        return hypothesis\n",
    "\n",
    "    def __select_from_current(self, probabilities):\n",
    "        return self.__sample_hypothesis(probabilities, int((1 - self.__r) * self.__p))\n",
    "\n",
    "    def __select_pairs(self, probabilities):\n",
    "        number = int(self.__r * self.__p)\n",
    "        number += number % 2\n",
    "\n",
    "        hypothesis = np.random.choice(self.__hypothesis, int(self.__r * self.__p), p = probabilities)\n",
    "        crossovers = []\n",
    "\n",
    "        for i in range(0, number, 2):\n",
    "            crossovers.extend(GA.__crossover(hypothesis1 = hypothesis[i], hypothesis2 = hypothesis[i + 1]))\n",
    "        \n",
    "        return crossovers\n",
    "\n",
    "    def __mutate_hypothesis(self, hypothesis):\n",
    "        values = np.random.binomial(n = 1, p = self.__m, size = len(hypothesis))\n",
    "        assert len(values) == len(hypothesis)\n",
    "\n",
    "        for i in range(len(hypothesis)):\n",
    "            if values[i] == 1:\n",
    "                hypothesis[i] = GA.__mutate(hypothesis[i])\n",
    "        \n",
    "        return hypothesis\n",
    "    \n",
    "    def __metric(self):\n",
    "        maximum = 0\n",
    "        for hypothesis in self.__hypothesis:\n",
    "            maximum = max(maximum, self.__fitness(hypothesis))\n",
    "        \n",
    "        return maximum\n",
    "    \n",
    "    def __best_hypothesis(self):\n",
    "        minimum = 1\n",
    "        best_hypothesis = None\n",
    "\n",
    "        for hypothesis in self.__hypothesis:\n",
    "            value = self.__fitness(hypothesis)\n",
    "            if value < minimum:\n",
    "                minimum = value\n",
    "                best_hypothesis = hypothesis\n",
    "        \n",
    "        return best_hypothesis\n",
    "\n",
    "    def __step(self):\n",
    "        probabilities = self.__probabilities()\n",
    "        ps = self.__select_from_current(probabilities)\n",
    "\n",
    "        ps.extend(self.__select_pairs(probabilities))\n",
    "        ps.extend(self.__sample_hypothesis(probabilities, self.__p - len(ps)))\n",
    "\n",
    "        self.__hypothesis = self.__mutate_hypothesis(ps)\n",
    "    \n",
    "    def learn(self):\n",
    "        contor = 1\n",
    "        while self.__metric() > self.__threshold:\n",
    "            self.__step()\n",
    "            \n",
    "            if contor % 100 == 0:\n",
    "                print(str(contor) + \" \" + str(self.__metric())) \n",
    "            contor += 1\n",
    "        \n",
    "        return self.__best_hypothesis()"
   ]
  },
  {
   "cell_type": "code",
   "execution_count": 363,
   "metadata": {},
   "outputs": [],
   "source": [
    "train_set = [[[1, 0, 0, 1, 0, 0, 1, 0, 0, 1], 0],\n",
    "             [[1, 0, 0, 1, 0, 0, 1, 0, 1, 0], 0],\n",
    "             [[0, 1, 0, 1, 0, 0, 1, 0, 0, 1], 1],\n",
    "             [[0, 0, 1, 0, 1, 0, 1, 0, 0, 1], 1],\n",
    "             [[0, 0, 1, 0, 0, 1, 0, 1, 0, 1], 1],\n",
    "             [[0, 0, 1, 0, 0, 1, 0, 1, 1, 0], 0],\n",
    "             [[0, 1, 0, 0, 0, 1, 0, 1, 1, 0], 1],\n",
    "             [[1, 0, 0, 0, 1, 0, 1, 0, 0, 1], 0],\n",
    "             [[1, 0, 0, 0, 0, 1, 0, 1, 0, 1], 1],\n",
    "             [[0, 0, 1, 0, 1, 0, 0, 1, 0, 1], 1],\n",
    "             [[1, 0, 0, 0, 1, 0, 0, 1, 1, 0], 1],\n",
    "             [[0, 1, 0, 0, 1, 0, 1, 0, 1, 0], 1],\n",
    "             [[0, 1, 0, 1, 0, 0, 0, 1, 0, 1], 1],\n",
    "             [[0, 0, 1, 0, 1, 0, 1, 0, 1, 0], 0]]\n",
    "\n",
    "train_instances = [element[0] for element in train_set]\n",
    "train_targets = [element[1] for element in train_set]"
   ]
  },
  {
   "cell_type": "code",
   "execution_count": 364,
   "metadata": {},
   "outputs": [
    {
     "name": "stdout",
     "output_type": "stream",
     "text": [
      "100 0.6428571428571429\n",
      "200 0.6428571428571429\n",
      "300 0.35714285714285715\n",
      "400 0.35714285714285715\n",
      "500 0.42857142857142855\n",
      "600 0.35714285714285715\n",
      "700 0.35714285714285715\n",
      "800 0.35714285714285715\n",
      "900 0.35714285714285715\n",
      "1000 0.35714285714285715\n",
      "1100 0.35714285714285715\n",
      "1200 0.6428571428571429\n",
      "1300 0.5\n"
     ]
    }
   ],
   "source": [
    "fitness = Fitness(instances = train_instances, targets = train_targets)\n",
    "ga = GA(length = REPRESENTATION_LENGTH, fitness = fitness)\n",
    "\n",
    "hypothesis = ga.learn()"
   ]
  },
  {
   "cell_type": "code",
   "execution_count": 365,
   "metadata": {},
   "outputs": [
    {
     "data": {
      "text/plain": [
       "1"
      ]
     },
     "execution_count": 365,
     "metadata": {},
     "output_type": "execute_result"
    }
   ],
   "source": [
    "hypothesis.classify(instance = [1, 0, 0, 1, 0, 0, 0, 1, 1, 0])"
   ]
  }
 ],
 "metadata": {
  "kernelspec": {
   "display_name": "base",
   "language": "python",
   "name": "python3"
  },
  "language_info": {
   "codemirror_mode": {
    "name": "ipython",
    "version": 3
   },
   "file_extension": ".py",
   "mimetype": "text/x-python",
   "name": "python",
   "nbconvert_exporter": "python",
   "pygments_lexer": "ipython3",
   "version": "3.10.6"
  },
  "orig_nbformat": 4,
  "vscode": {
   "interpreter": {
    "hash": "c6e4e9f98eb68ad3b7c296f83d20e6de614cb42e90992a65aa266555a3137d0d"
   }
  }
 },
 "nbformat": 4,
 "nbformat_minor": 2
}
