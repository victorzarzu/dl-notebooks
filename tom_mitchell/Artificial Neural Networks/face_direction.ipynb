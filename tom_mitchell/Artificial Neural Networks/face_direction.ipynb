{
 "cells": [
  {
   "cell_type": "code",
   "execution_count": 1,
   "metadata": {},
   "outputs": [],
   "source": [
    "import numpy as np\n",
    "import matplotlib.pyplot as plt\n",
    "import math"
   ]
  },
  {
   "cell_type": "code",
   "execution_count": 2,
   "metadata": {},
   "outputs": [],
   "source": [
    "np.random.seed(42)"
   ]
  },
  {
   "cell_type": "code",
   "execution_count": 3,
   "metadata": {},
   "outputs": [],
   "source": [
    "IMAGE_HEIGHT = 30\n",
    "IMAGE_WIDTH = 32\n",
    "DEPTH = 142"
   ]
  },
  {
   "cell_type": "code",
   "execution_count": 4,
   "metadata": {},
   "outputs": [],
   "source": [
    "def read_pgm(pgmf):\n",
    "    \"\"\"Return a raster of integers from a PGM as a list of lists.\"\"\"\n",
    "    assert pgmf.readline() == b'P5\\n'\n",
    "    (width, height) = [int(i) for i in pgmf.readline().split()]\n",
    "    depth = int(pgmf.readline())\n",
    "    assert depth <= 255\n",
    "\n",
    "    raster = []\n",
    "    for y in range(height):\n",
    "        for y in range(width):\n",
    "            raster.append(max(0.01, ord(pgmf.read(1)) / depth))\n",
    "    return raster"
   ]
  },
  {
   "cell_type": "code",
   "execution_count": 5,
   "metadata": {},
   "outputs": [],
   "source": [
    "def create_output(name):\n",
    "    if 'left' in name:\n",
    "        return [0.9, 0.1, 0.1, 0.1]\n",
    "    elif 'right' in name:\n",
    "        return [0.1, 0.9, 0.1, 0.1]\n",
    "    elif 'straight' in name:\n",
    "        return [0.1, 0.1, 0.9, 0.1]\n",
    "    elif 'up' in name:\n",
    "        return [0.1, 0.1, 0.1, 0.9]"
   ]
  },
  {
   "cell_type": "code",
   "execution_count": 6,
   "metadata": {},
   "outputs": [],
   "source": [
    "def get_max( v):\n",
    "    maximum = 0\n",
    "    pos = -1\n",
    "\n",
    "    for i in range(len(v)):\n",
    "        if v[i] > maximum:\n",
    "            maximum = v[i]\n",
    "            pos = i\n",
    "    \n",
    "    return pos\n",
    "\n",
    "def output_to_orientation(v):\n",
    "    maximum = get_max(v)\n",
    "\n",
    "    match maximum:\n",
    "        case 0:\n",
    "            return 'left'\n",
    "        case 1:\n",
    "            return 'right'\n",
    "        case 2:\n",
    "            return 'straight'\n",
    "        case _:\n",
    "            return 'up'"
   ]
  },
  {
   "cell_type": "code",
   "execution_count": 7,
   "metadata": {},
   "outputs": [],
   "source": [
    "def instance_to_image(instance):\n",
    "    image = []\n",
    "    for i in range(IMAGE_HEIGHT):\n",
    "        row = [x * DEPTH for x in instance[(i * IMAGE_WIDTH):((i + 1) * IMAGE_WIDTH)]]\n",
    "        assert(len(row)) == IMAGE_WIDTH\n",
    "        image.append(row)\n",
    "    \n",
    "    return image"
   ]
  },
  {
   "cell_type": "code",
   "execution_count": 8,
   "metadata": {},
   "outputs": [],
   "source": [
    "train_file = 'train_files.txt'\n",
    "validation_file = \"validation_files.txt\"\n",
    "test_file = \"test_files.txt\"\n",
    "\n",
    "def create_dataset(file):\n",
    "    set = []\n",
    "    with open(file, 'r') as file:\n",
    "        for line in file:\n",
    "            image = read_pgm(open(line[:-1], 'rb'))\n",
    "            set.append([image, create_output(line)])   \n",
    "    return set\n",
    "\n",
    "train_set = create_dataset(train_file)\n",
    "validation_set = create_dataset(validation_file)\n",
    "test_set = create_dataset(test_file)"
   ]
  },
  {
   "cell_type": "code",
   "execution_count": 9,
   "metadata": {},
   "outputs": [],
   "source": [
    "class Function:\n",
    "    pass\n",
    "\n",
    "class IdentityFunction(Function):\n",
    "\n",
    "    def __call__(self, x):\n",
    "        return x \n",
    "    \n",
    "    def derivative(self, x):\n",
    "        return 1 \n",
    "\n",
    "class SigmoidFunction(Function):\n",
    "\n",
    "    def __call__(self, x):\n",
    "        return 1 / (1 + math.pow(math.e, -x))\n",
    "    \n",
    "    def derivative(self, x):\n",
    "        return self.__call__(x) * (1 - self.__call__(x))\n",
    "\n",
    "class SeluFunction(Function):\n",
    "\n",
    "    def __init__(self, lambdaa = 1.0507, alpha = 1.6732):\n",
    "        self.__lambda = lambdaa\n",
    "        self.__alpha = alpha\n",
    "\n",
    "    def __call__(self, x):\n",
    "        if x >= 0:\n",
    "            return self.__lambda * x\n",
    "        \n",
    "        return self.__lambda * self.__alpha * (math.exp(x) - 1)\n",
    "    \n",
    "    def derivative(self, x):\n",
    "        if x >= 0:\n",
    "            return self.__lambda\n",
    "        \n",
    "        return self.__lambda * self.__alpha * math.exp(x)"
   ]
  },
  {
   "cell_type": "code",
   "execution_count": 10,
   "metadata": {},
   "outputs": [],
   "source": [
    "class Node:\n",
    "    \n",
    "    def __init__(self, no_weights, function = IdentityFunction(), lr = 0.03):\n",
    "        self._weights =  list((0.1 * np.random.random_sample((1, no_weights + 1)) - 0.05)[0])\n",
    "        self._nodes = []\n",
    "        self._lr = lr \n",
    "        self._function = function\n",
    "        self._no_weights = no_weights\n",
    "\n",
    "    def addNode(self, node):\n",
    "        self._nodes.append(node)\n",
    "    \n",
    "    def addNodes(self, nodes):\n",
    "        for node in nodes:\n",
    "            self.addNode(node)\n",
    "    \n",
    "    def get_weights(self):\n",
    "        return self._weights\n",
    "    \n",
    "    def get_function(self):\n",
    "        return self._function\n",
    "\n",
    "    def set_lr(self, lr):\n",
    "        self._lr = lr\n",
    "\n",
    "    def apply(self, instance):\n",
    "        assert len(self._weights) - 1 == len(instance)\n",
    "        return self._function(self._weights[0] + sum([i * j for i, j in zip(self._weights[1:], instance)]))\n",
    "    \n",
    "    def derivative(self, instance):\n",
    "        return self._function.derivative(self._weights[0] + sum([i * j for i, j in zip(self._weights[1:], instance)]))\n",
    "    \n",
    "    def update_weights(self, instance, error):\n",
    "        assert len(self._weights[1:]) == len(instance)\n",
    "\n",
    "        for j in range(1, self._no_weights):\n",
    "            self._weights[j] = self._weights[j] + self._lr * error * instance[j - 1]"
   ]
  },
  {
   "cell_type": "code",
   "execution_count": 11,
   "metadata": {},
   "outputs": [],
   "source": [
    "class InputNode(Node):\n",
    "    def __init__(self, no_weights = 2, function = IdentityFunction(), lr = 0.03):\n",
    "        super().__init__(no_weights, function, lr)\n",
    "        self._weights = [0, 1]\n"
   ]
  },
  {
   "cell_type": "code",
   "execution_count": 12,
   "metadata": {},
   "outputs": [],
   "source": [
    "class OutputNode(Node):\n",
    "    def __init__(self, no_weights = 2, function = IdentityFunction(), lr = 0.03):\n",
    "        super().__init__(no_weights, function, lr)\n",
    "        self._error = None\n",
    "\n",
    "    def reset_error(self):\n",
    "        self._error = None\n",
    "\n",
    "    def error(self, instance, target):\n",
    "        if self._error != None:\n",
    "            return self._error\n",
    "\n",
    "        value = self.apply(instance)\n",
    "\n",
    "        self._error = self._function.derivative(value) * (target - value)\n",
    "        #self._error =  value * (1 - value) * (target - value) \n",
    "        return self._error\n",
    "    \n",
    "    def update_weights(self, instance, target):\n",
    "        for j in range(1, self._no_weights):\n",
    "            self._weights[j] = self._weights[j] + self._lr * self.error(instance, target) * instance[j - 1]"
   ]
  },
  {
   "cell_type": "code",
   "execution_count": 13,
   "metadata": {},
   "outputs": [],
   "source": [
    "class Layer:\n",
    "\n",
    "    def __init__(self, no_previous_nodes, no_nodes, function = IdentityFunction(), lr = 0.03, name = 'Layer'):\n",
    "        self._nodes = [None] * no_nodes\n",
    "        for i in range(no_nodes):\n",
    "            self._nodes[i] = Node(no_previous_nodes, function, lr)\n",
    "\n",
    "        self._next_layer = None\n",
    "        self._no_weights = no_previous_nodes\n",
    "        self._no_nodes = no_nodes\n",
    "        self._name = name\n",
    "        self._errors = None\n",
    "    \n",
    "    def get_name(self):\n",
    "        return self._name\n",
    "\n",
    "    def get_no_nodes(self):\n",
    "        return self._no_nodes\n",
    "\n",
    "    def get_no_weights(self):\n",
    "        return self._no_weights\n",
    "    \n",
    "    def get_nodes(self):\n",
    "        return self._nodes\n",
    "\n",
    "    def get_weights(self):\n",
    "        return [node.get_weights() for node in self._nodes]\n",
    "\n",
    "    def get_next_layer(self):\n",
    "        return self._next_layer\n",
    "\n",
    "    def set_lr(self, lr):\n",
    "        for node in self._nodes:\n",
    "            node.set_lr(lr)\n",
    "    \n",
    "    def reset_error(self):\n",
    "        self._errors = None\n",
    "\n",
    "    def apply(self, instance):\n",
    "        return [node.apply(instance) for node in self._nodes]\n",
    "    \n",
    "    def derivative(self, instance):\n",
    "        return [node.derivative(instance) for node in self._nodes]\n",
    "    \n",
    "    def errors(self, instance, target = None):\n",
    "        if self._errors != None:\n",
    "            return self._errors\n",
    "\n",
    "        errors = []\n",
    "        next_errors = self._next_layer.errors(self.apply(instance), target)\n",
    "        next_nodes = self._next_layer.get_nodes()\n",
    "\n",
    "        assert len(next_nodes) == len(next_errors)\n",
    "\n",
    "        for i in range(len(self._nodes)):\n",
    "            derivative = self._nodes[i].derivative(instance)\n",
    "            errors.append(derivative * sum([node.get_weights()[i + 1] * error for node, error in zip(next_nodes, next_errors)]))\n",
    "        \n",
    "        self._errors = errors\n",
    "        return errors\n",
    "    \n",
    "    def update_weights(self, instance, target = None):\n",
    "        errors = self.errors(instance, target)\n",
    "        \n",
    "        assert len(self._nodes) == len(errors)\n",
    "        for node, error in zip(self._nodes, errors):\n",
    "            node.update_weights(instance, error)\n",
    "\n",
    "    def add_next_layer(self, layer):\n",
    "        assert self._no_nodes == layer.get_no_weights()\n",
    "\n",
    "        if self._no_nodes != layer.get_no_weights():\n",
    "            raise Exception(\"Invalid number of nodes\")\n",
    "\n",
    "        self._next_layer = layer\n",
    "        for node in self._nodes:\n",
    "            node.addNodes(layer.get_nodes())"
   ]
  },
  {
   "cell_type": "code",
   "execution_count": 14,
   "metadata": {},
   "outputs": [],
   "source": [
    "\n",
    "class InputLayer(Layer):\n",
    "\n",
    "    def __init__(self, no_nodes, function = IdentityFunction(), lr = 0.03, no_previous_nodes = 0, name = 'Input'):\n",
    "        super().__init__(no_previous_nodes, no_nodes, function, lr, name)\n",
    "\n",
    "        self._nodes = [InputNode()] * no_nodes"
   ]
  },
  {
   "cell_type": "code",
   "execution_count": 15,
   "metadata": {},
   "outputs": [],
   "source": [
    "class OutputLayer(Layer):\n",
    "    def __init__(self, no_nodes, function = IdentityFunction(), lr = 0.03, no_previous_nodes = 0, name = 'Output'):\n",
    "        super().__init__(no_previous_nodes, no_nodes, function, lr, name)\n",
    "\n",
    "        self._nodes = [None] * no_nodes\n",
    "        for i in range(no_nodes):\n",
    "            self._nodes[i] = OutputNode(no_previous_nodes, function, lr)\n",
    "    \n",
    "    def reset_error(self):\n",
    "        self._errors = None\n",
    "        for node in self._nodes:\n",
    "            node.reset_error()\n",
    "    \n",
    "    def errors(self, instance, targets = None):\n",
    "        if self._errors != None:\n",
    "            return self._errors\n",
    "\n",
    "        self._errors = [node.error(instance, target) for node, target in zip(self.get_nodes(), targets)]\n",
    "        return self._errors\n",
    "\n",
    "    def update_weights(self, instance, targets):\n",
    "        assert len(self._nodes) == len(targets)\n",
    "        self.errors(instance, targets)\n",
    "\n",
    "        for node, target in zip(self.get_nodes(), targets):\n",
    "            node.update_weights(instance, target)"
   ]
  },
  {
   "cell_type": "code",
   "execution_count": 16,
   "metadata": {},
   "outputs": [],
   "source": [
    "class Model:\n",
    "\n",
    "    def __init__(self, lr = 0.03, epochs = 10):\n",
    "        self.__first_layer = None \n",
    "        self.__lr = lr\n",
    "        self.__epochs = epochs\n",
    "    \n",
    "    def add_layer(self, layer):\n",
    "        layer.set_lr(self.__lr)\n",
    "        if self.__first_layer == None:\n",
    "            self.__first_layer = layer\n",
    "        else:\n",
    "            current_layer = self.__first_layer\n",
    "            while current_layer.get_next_layer() != None:\n",
    "                current_layer = current_layer.get_next_layer()\n",
    "            current_layer.add_next_layer(layer)\n",
    "    \n",
    "    def get_input_layer_result(self, instance):\n",
    "        return [node.apply([instance_value]) for node, instance_value in zip(self.__first_layer.get_nodes(), instance)]\n",
    "\n",
    "    def get_weights(self):\n",
    "        weights = []\n",
    "        current_layer = self.__first_layer\n",
    "\n",
    "        while current_layer != None:\n",
    "            weights.append(current_layer.get_weights())\n",
    "            current_layer = current_layer.get_next_layer()\n",
    "\n",
    "        return weights\n",
    "\n",
    "    def reset_error(self):\n",
    "        current_layer = self.__first_layer.get_next_layer()\n",
    "\n",
    "        while current_layer != None:\n",
    "            current_layer.reset_error()\n",
    "            current_layer = current_layer.get_next_layer()\n",
    "\n",
    "    def apply(self, instance):\n",
    "        current_instance = instance\n",
    "        current_layer = self.__first_layer.get_next_layer()\n",
    "        \n",
    "        while current_layer != None:\n",
    "            current_instance = current_layer.apply(current_instance)\n",
    "            current_layer = current_layer.get_next_layer()\n",
    "        \n",
    "        return current_instance\n",
    "    \n",
    "    def get_output_weights(self):\n",
    "        current_layer = self.__first_layer.get_next_layer()\n",
    "        \n",
    "        while current_layer.get_next_layer() != None:\n",
    "            current_layer = current_layer.get_next_layer()\n",
    "        \n",
    "        return current_layer.get_weights()\n",
    "    \n",
    "    def updateWeightsModel(self, instance, target):\n",
    "        layer = self.__first_layer.get_next_layer()\n",
    "\n",
    "        inputs = [instance]\n",
    "        layers = []\n",
    "        contor = 0\n",
    "\n",
    "        while layer != None:\n",
    "            inputs.append(layer.apply(inputs[contor]))\n",
    "            layers.append(layer)\n",
    "            layer = layer.get_next_layer()\n",
    "            contor += 1\n",
    "\n",
    "        contor -= 1 \n",
    "\n",
    "        while contor >= 0:\n",
    "            layer = layers[contor]\n",
    "            input = inputs[contor]\n",
    "            \n",
    "            if layer.get_next_layer() == None:\n",
    "                layer.update_weights(input, target)\n",
    "            else:\n",
    "                layer.update_weights(input, None) \n",
    "            \n",
    "            contor -= 1\n",
    "\n",
    "\n",
    "    def accuracy(self, instances, targets):\n",
    "        correct = 0\n",
    "        for instance, target in zip(instances, targets):\n",
    "            prediction = self.apply(instance)\n",
    "            if get_max(prediction) == get_max(target):\n",
    "                correct += 1\n",
    "        \n",
    "        return correct / len(instances)\n",
    "\n",
    "\n",
    "    def fit(self, instances, targets):\n",
    "        accuracy_list = []\n",
    "        epochs_list = []\n",
    "        for i in range(self.__epochs):\n",
    "            for instance, target in zip(instances, targets):\n",
    "                self.updateWeightsModel(instance, target)\n",
    "\n",
    "                self.reset_error()\n",
    "\n",
    "            accuracy_list.append(self.accuracy(instances, targets))\n",
    "            epochs_list.append(i)\n",
    "        \n",
    "        return [accuracy_list, epochs_list]"
   ]
  },
  {
   "cell_type": "code",
   "execution_count": 17,
   "metadata": {},
   "outputs": [],
   "source": [
    "train_instances = [element[0] for element in train_set]\n",
    "train_targets = [element[1] for element in train_set]"
   ]
  },
  {
   "cell_type": "code",
   "execution_count": 18,
   "metadata": {},
   "outputs": [],
   "source": [
    "model = Model(epochs = 50, lr = 0.15)\n",
    "model.add_layer(InputLayer(IMAGE_HEIGHT * IMAGE_WIDTH))\n",
    "model.add_layer(Layer(no_previous_nodes = IMAGE_WIDTH * IMAGE_HEIGHT, no_nodes = 32, function = SigmoidFunction(), name = 'Hidden 1'))\n",
    "model.add_layer(OutputLayer(no_previous_nodes = 32, no_nodes = 4, function = SigmoidFunction(), name = 'Output'))"
   ]
  },
  {
   "cell_type": "code",
   "execution_count": 19,
   "metadata": {},
   "outputs": [],
   "source": [
    "[accuracy, epochs] = model.fit(train_instances, train_targets)"
   ]
  },
  {
   "cell_type": "code",
   "execution_count": 20,
   "metadata": {},
   "outputs": [
    {
     "data": {
      "image/png": "[encoded data removed]",
      "text/plain": [
       "<Figure size 640x480 with 1 Axes>"
      ]
     },
     "metadata": {},
     "output_type": "display_data"
    }
   ],
   "source": [
    "plt.xlabel('epochs')\n",
    "plt.ylabel('error')\n",
    "\n",
    "plt.plot(epochs, accuracy, 'r')\n",
    "plt.show()"
   ]
  },
  {
   "cell_type": "code",
   "execution_count": 21,
   "metadata": {},
   "outputs": [
    {
     "data": {
      "text/plain": [
       "1.0"
      ]
     },
     "execution_count": 21,
     "metadata": {},
     "output_type": "execute_result"
    }
   ],
   "source": [
    "model.accuracy(train_instances,train_targets)"
   ]
  },
  {
   "cell_type": "code",
   "execution_count": 22,
   "metadata": {},
   "outputs": [
    {
     "data": {
      "text/plain": [
       "0.920863309352518"
      ]
     },
     "execution_count": 22,
     "metadata": {},
     "output_type": "execute_result"
    }
   ],
   "source": [
    "validation_instances = [element[0] for element in validation_set]\n",
    "validation_targets = [element[1] for element in validation_set]\n",
    "model.accuracy(validation_instances, validation_targets)"
   ]
  },
  {
   "cell_type": "code",
   "execution_count": 23,
   "metadata": {},
   "outputs": [
    {
     "data": {
      "text/plain": [
       "0.9230769230769231"
      ]
     },
     "execution_count": 23,
     "metadata": {},
     "output_type": "execute_result"
    }
   ],
   "source": [
    "test_instances = [element[0] for element in test_set]\n",
    "test_targets = [element[1] for element in test_set]\n",
    "model.accuracy(test_instances, test_targets)"
   ]
  },
  {
   "cell_type": "code",
   "execution_count": 24,
   "metadata": {},
   "outputs": [
    {
     "data": {
      "image/png": "[encoded data removed]",
      "text/plain": [
       "<Figure size 200x200 with 1 Axes>"
      ]
     },
     "metadata": {},
     "output_type": "display_data"
    }
   ],
   "source": [
    "for instance, target in zip(test_instances, test_targets):\n",
    "    prediction = output_to_orientation(model.apply(instance))\n",
    "    orientation = output_to_orientation(target)\n",
    "    if prediction != orientation:\n",
    "        image = instance_to_image(instance)\n",
    "        plt.figure(figsize=(2, 2))\n",
    "        plt.title('prediction: ' + prediction + \"   actual: \" + orientation)\n",
    "        plt.imshow(image, cmap = 'gray', vmin = 0, vmax = DEPTH)\n",
    "        break"
   ]
  }
 ],
 "metadata": {
  "kernelspec": {
   "display_name": "base",
   "language": "python",
   "name": "python3"
  },
  "language_info": {
   "codemirror_mode": {
    "name": "ipython",
    "version": 3
   },
   "file_extension": ".py",
   "mimetype": "text/x-python",
   "name": "python",
   "nbconvert_exporter": "python",
   "pygments_lexer": "ipython3",
   "version": "3.10.6"
  },
  "orig_nbformat": 4,
  "vscode": {
   "interpreter": {
    "hash": "c6e4e9f98eb68ad3b7c296f83d20e6de614cb42e90992a65aa266555a3137d0d"
   }
  }
 },
 "nbformat": 4,
 "nbformat_minor": 2
}
