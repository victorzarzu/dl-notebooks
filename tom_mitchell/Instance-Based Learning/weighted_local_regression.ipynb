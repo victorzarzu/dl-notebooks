{
 "cells": [
  {
   "cell_type": "code",
   "execution_count": 45,
   "metadata": {},
   "outputs": [],
   "source": [
    "import numpy as np\n",
    "import matplotlib.pyplot as plt\n",
    "import math\n",
    "from functools import cmp_to_key"
   ]
  },
  {
   "cell_type": "code",
   "execution_count": 46,
   "metadata": {},
   "outputs": [],
   "source": [
    "INPUT_SIZE = 3\n",
    "TRAINING_SIZE = 10000"
   ]
  },
  {
   "cell_type": "code",
   "execution_count": 47,
   "metadata": {},
   "outputs": [],
   "source": [
    "class WeightedLocalRegression:\n",
    "\n",
    "    def __init__(self, instances, targets):\n",
    "        self.__LR = 0.0003\n",
    "\n",
    "        self.__k = 8\n",
    "        self.__instances = []\n",
    "        self.__targets = []\n",
    "        self.__original_instances = instances\n",
    "        self.__original_targets = targets\n",
    "\n",
    "    def __apply(self, instance):\n",
    "        return self.__weights[0] + sum([i * j for i, j in zip(instance, self.__weights[1:])])\n",
    "    \n",
    "    def __distance(self, instance1, instance2):\n",
    "        #print(str(instance1) + \" \" + str(instance2) + \" \" + str(sum([(i - j) * (i - j) for i, j in zip(instance1, instance2)])))\n",
    "        return math.sqrt(sum([(i - j) * (i - j) for i, j in zip(instance1, instance2)]))\n",
    "\n",
    "    def __kernel(self, instance1, instance2):\n",
    "        return 1 / self.__distance(instance1, instance2)\n",
    "\n",
    "    def __create_training(self, instance):\n",
    "        self.__instances = []\n",
    "        self.__targets = []\n",
    "\n",
    "        for training_instance, training_target in zip(self.__original_instances, self.__original_targets):\n",
    "            kernel_value = int(self.__kernel(instance, training_instance))\n",
    "            self.__instances.extend([training_instance] * kernel_value)\n",
    "            self.__targets.extend([training_target] * kernel_value)\n",
    "        print(len(self.__instances))\n",
    "\n",
    "\n",
    "    def query(self, instance):\n",
    "        self.__weights = np.random.random_sample((1, INPUT_SIZE))[0]\n",
    "\n",
    "        self.__create_training(instance)\n",
    "        self.__update_weights()\n",
    "        \n",
    "        print(self.__weights)\n",
    "\n",
    "        return self.__apply(instance)\n",
    "    \n",
    "    def __closest(self, instance):\n",
    "        return sorted(self.__instances, key = cmp_to_key(lambda x, y : self.__distance(x, instance) < self.__distance(y, instance)))[:self.__k]\n",
    "\n",
    "    def __weight_delta(self, j):\n",
    "        return self.__LR * sum([(result - self.__apply(x)) * x[j] for x, result in zip(self.__instances, self.__targets)])\n",
    "    \n",
    "    def __update_weights(self):\n",
    "        for j in range(len(self.__weights) - 1):\n",
    "           self.__weights[j + 1] = self.__weights[j + 1] + self.__weight_delta(j)\n"
   ]
  },
  {
   "cell_type": "code",
   "execution_count": 48,
   "metadata": {},
   "outputs": [
    {
     "name": "stdout",
     "output_type": "stream",
     "text": [
      "17251\n",
      "[ 0.8220665  -1.94946067  0.13719825]\n",
      "0.013716497548582951 -0.09418051768890909\n",
      "15260\n",
      "[ 0.28948276 -1.20932848  0.79222799]\n",
      "-0.40656843612386373 0.5190525791015814\n",
      "16474\n",
      "[ 0.21140171 -0.71637315  0.16476325]\n",
      "-0.02458185380673167 0.0539175530581405\n",
      "13746\n",
      "[ 0.88749129 -2.40252827  1.33173742]\n",
      "-0.3185654769243278 0.6976396134938507\n",
      "17081\n",
      "[ 0.25559672 -0.32292391  0.04733006]\n",
      "0.08353983641489968 0.4464182483717717\n",
      "15020\n",
      "[ 0.91568543 -2.96953601 -0.39641029]\n",
      "-0.44716160158094853 -0.4060436902428494\n",
      "9366\n",
      "[0.20064676 0.38477383 0.03800141]\n",
      "0.24363486435888418 1.0253393080505384\n",
      "17242\n",
      "[ 0.39784861 -1.13869151  0.90981717]\n",
      "0.10778214333539082 0.4990269075723022\n",
      "12654\n",
      "[ 0.53056696 -2.78172687  2.32486994]\n",
      "0.25705123343607605 0.11066664213421817\n",
      "15501\n",
      "[ 0.84400432 -1.26867896 -0.19156288]\n",
      "0.3599309313520065 0.7116931297816693\n",
      "14873\n",
      "[ 0.32094898 -0.7755473   0.52180458]\n",
      "-0.009197532073213388 0.7835001680186308\n",
      "14556\n",
      "[ 0.81220476 -1.86956839  0.27196099]\n",
      "0.23782454793323016 0.7177143308155638\n",
      "7600\n",
      "[ 0.58076494 -1.26093069  0.66956126]\n",
      "-0.5887928544834206 -0.05422537641487535\n",
      "15860\n",
      "[ 0.94207615 -1.862814   -0.50818045]\n",
      "0.15334658438436977 0.2816447157759788\n",
      "13145\n",
      "[ 0.19274568 -0.73840389  0.45304328]\n",
      "-0.3620231514445088 0.08072583651503282\n"
     ]
    }
   ],
   "source": [
    "def target_function(x):\n",
    "    return x[0] / 3 - 15 * x[1] / 15 + 17/15 * x[2]\n",
    "\n",
    "training_instances = np.random.random_sample((TRAINING_SIZE, INPUT_SIZE))\n",
    "training_targets = [target_function(x) for x in training_instances]\n",
    "\n",
    "learner = WeightedLocalRegression(training_instances, training_targets)\n",
    "\n",
    "x = np.random.random_sample((15, INPUT_SIZE))\n",
    "#x = [[0.6, 0.978, 0.013], [0.05, 0.7, 0.005], [0.4, 1.005, 1.2], [0.004, 0.17, 0.82], [0.23, 0.01, 0.56]]\n",
    "\n",
    "for instance in x:\n",
    "    print(str(learner.query(instance)) + \" \" + str(target_function(instance)))\n"
   ]
  }
 ],
 "metadata": {
  "kernelspec": {
   "display_name": "base",
   "language": "python",
   "name": "python3"
  },
  "language_info": {
   "codemirror_mode": {
    "name": "ipython",
    "version": 3
   },
   "file_extension": ".py",
   "mimetype": "text/x-python",
   "name": "python",
   "nbconvert_exporter": "python",
   "pygments_lexer": "ipython3",
   "version": "3.10.6"
  },
  "orig_nbformat": 4,
  "vscode": {
   "interpreter": {
    "hash": "c6e4e9f98eb68ad3b7c296f83d20e6de614cb42e90992a65aa266555a3137d0d"
   }
  }
 },
 "nbformat": 4,
 "nbformat_minor": 2
}
